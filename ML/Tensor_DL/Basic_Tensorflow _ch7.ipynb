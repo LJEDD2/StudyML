{
 "cells": [
  {
   "cell_type": "markdown",
   "metadata": {},
   "source": [
    "# [파이썬 텐서플로우 & 머신러닝 기초 강좌 (TensorFlow Machine Learning Basic Tutorial - 동빈나 채널](https://www.youtube.com/watch?v=4hnzae4vZPA&list=PLRx0vPvlEmdAbnmLH9yh03cw9UQU_o7PO&index=7)\n",
    "\n",
    "## 7강 텐서플로우 - 플레이스 홀더\n",
    "\n"
   ]
  },
  {
   "cell_type": "markdown",
   "metadata": {},
   "source": [
    "PlaceHolder는 다른 Tensor를 할당하기 위해 사용된다.  \n",
    "실제로 값을 할당할 때는 Feeding을 수행한다.  \n",
    "학습데이터를 포함하는 변수라고 할 수 있다."
   ]
  },
  {
   "cell_type": "code",
   "execution_count": 2,
   "metadata": {
    "scrolled": true
   },
   "outputs": [],
   "source": [
    "import tensorflow.compat.v1 as tf #텐플 라이브러리 호출\n",
    "tf.disable_v2_behavior()\n"
   ]
  },
  {
   "cell_type": "markdown",
   "metadata": {},
   "source": [
    "- 플레이스 홀더 기본문법  \n",
    "tf.placeholder(dtype, shape, name)\n",
    "  \n",
    "    \n",
    "dtype - 플레이스 홀더에 저장되는 자료형  \n",
    "shape - 배열의 차원  \n",
    "name -  플레이스 홀더의 이름 "
   ]
  },
  {
   "cell_type": "markdown",
   "metadata": {},
   "source": [
    "- 피딩을 이용해 플레이스 홀더를 실제 학습용 데이터로 설정"
   ]
  },
  {
   "cell_type": "code",
   "execution_count": 4,
   "metadata": {},
   "outputs": [],
   "source": [
    "input = [1,2,3,4,5]\n",
    "x = tf.placeholder(dtype = tf.float32)\n",
    "y = x + 5"
   ]
  },
  {
   "cell_type": "code",
   "execution_count": 8,
   "metadata": {},
   "outputs": [
    {
     "data": {
      "text/plain": [
       "array([ 6.,  7.,  8.,  9., 10.], dtype=float32)"
      ]
     },
     "execution_count": 8,
     "metadata": {},
     "output_type": "execute_result"
    }
   ],
   "source": [
    "sess = tf.Session()\n",
    "sess.run(y, feed_dict = {x : input}) #x는 input배열을 사용할 것이라 정의해줌 "
   ]
  },
  {
   "cell_type": "code",
   "execution_count": 9,
   "metadata": {},
   "outputs": [],
   "source": [
    "mathscore = [85, 9, 84, 97, 92]\n",
    "engscore = [59, 89, 84, 68, 77]"
   ]
  },
  {
   "cell_type": "code",
   "execution_count": 13,
   "metadata": {},
   "outputs": [],
   "source": [
    "a = tf.placeholder(dtype = tf.float32)\n",
    "b = tf.placeholder(dtype = tf.float32)\n",
    "y = (a+b)/2\n"
   ]
  },
  {
   "cell_type": "code",
   "execution_count": 15,
   "metadata": {},
   "outputs": [
    {
     "data": {
      "text/plain": [
       "array([72. , 49. , 84. , 82.5, 84.5], dtype=float32)"
      ]
     },
     "execution_count": 15,
     "metadata": {},
     "output_type": "execute_result"
    }
   ],
   "source": [
    "sess = tf.Session()\n",
    "sess.run(y, feed_dict = {a : mathscore, b : engscore})\n",
    "#값을 넣어서 학습"
   ]
  }
 ],
 "metadata": {
  "kernelspec": {
   "display_name": "Python 3",
   "language": "python",
   "name": "python3"
  },
  "language_info": {
   "codemirror_mode": {
    "name": "ipython",
    "version": 3
   },
   "file_extension": ".py",
   "mimetype": "text/x-python",
   "name": "python",
   "nbconvert_exporter": "python",
   "pygments_lexer": "ipython3",
   "version": "3.7.6"
  }
 },
 "nbformat": 4,
 "nbformat_minor": 4
}
