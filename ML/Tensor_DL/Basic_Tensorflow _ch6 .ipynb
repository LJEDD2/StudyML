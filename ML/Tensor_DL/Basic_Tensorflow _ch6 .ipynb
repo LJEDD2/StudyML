{
 "cells": [
  {
   "cell_type": "markdown",
   "metadata": {},
   "source": [
    "# [파이썬 텐서플로우 & 머신러닝 기초 강좌 (TensorFlow Machine Learning Basic Tutorial - 동빈나 채널](https://www.youtube.com/watch?v=JbrBKPm1QEo&list=PLRx0vPvlEmdAbnmLH9yh03cw9UQU_o7PO&index=6)\n",
    "\n",
    "## 6강 텐서플로우 - 변수와 상수\n",
    "\n",
    "\n",
    "\n",
    "\n"
   ]
  },
  {
   "cell_type": "code",
   "execution_count": 8,
   "metadata": {},
   "outputs": [],
   "source": [
    "import tensorflow.compat.v1 as tf #텐플 라이브러리 호출\n",
    "tf.disable_v2_behavior()\n"
   ]
  },
  {
   "cell_type": "markdown",
   "metadata": {},
   "source": [
    "텐서와 흐름을 접목시킨 기술"
   ]
  },
  {
   "cell_type": "code",
   "execution_count": 6,
   "metadata": {},
   "outputs": [
    {
     "data": {
      "text/plain": [
       "3"
      ]
     },
     "execution_count": 6,
     "metadata": {},
     "output_type": "execute_result"
    }
   ],
   "source": [
    "a = tf.constant(1)\n",
    "b = tf.constant(2)\n",
    "c = tf.add(a,b)\n",
    "\n",
    "#실행시키는 하나의 흐름, 세션 객체 생성\n",
    "sess = tf.Session()\n",
    "sess.run(c) #세션 실행 run()"
   ]
  },
  {
   "cell_type": "code",
   "execution_count": 7,
   "metadata": {
    "scrolled": false
   },
   "outputs": [
    {
     "name": "stdout",
     "output_type": "stream",
     "text": [
      "Tensor(\"Add_2:0\", shape=(), dtype=int32)\n"
     ]
    }
   ],
   "source": [
    "print(c)"
   ]
  },
  {
   "cell_type": "markdown",
   "metadata": {},
   "source": [
    "텐서 자료형으로 나온다.  \n",
    "하나의 자료(배열) 의 형태를 가진다.  \n",
    "세션이라는 것을 통해 연산을 수행한다.   (정의만)"
   ]
  },
  {
   "cell_type": "code",
   "execution_count": 12,
   "metadata": {},
   "outputs": [
    {
     "data": {
      "text/plain": [
       "15"
      ]
     },
     "execution_count": 12,
     "metadata": {},
     "output_type": "execute_result"
    }
   ],
   "source": [
    "#하나의 변수\n",
    "a = tf.Variable(5) #값 초기화\n",
    "b = tf.Variable(3) #값 초기화\n",
    "c = tf.multiply(a,b) #곱하기 적용한 값 저장\n",
    "init = tf.global_variables_initializer() #어떠한 변수를 생성했다면 꼭 실행 \n",
    "#초기화작업 해줘야함 \n",
    "\n",
    "sess = tf.Session() #세션 변수 초기화, 정의\n",
    "sess.run(init)\n",
    "sess.run(c)"
   ]
  },
  {
   "cell_type": "code",
   "execution_count": 13,
   "metadata": {},
   "outputs": [
    {
     "data": {
      "text/plain": [
       "15"
      ]
     },
     "execution_count": 13,
     "metadata": {},
     "output_type": "execute_result"
    }
   ],
   "source": [
    "a = tf.Variable(15)\n",
    "sess.run(c)"
   ]
  },
  {
   "cell_type": "markdown",
   "metadata": {},
   "source": [
    "c를 초기화해주지않았기때문에 15가 그대로 출력됨을 알 수 있다. "
   ]
  },
  {
   "cell_type": "code",
   "execution_count": 17,
   "metadata": {},
   "outputs": [
    {
     "data": {
      "text/plain": [
       "45"
      ]
     },
     "execution_count": 17,
     "metadata": {},
     "output_type": "execute_result"
    }
   ],
   "source": [
    "a = tf.Variable(15)\n",
    "c = tf.multiply(a,b)\n",
    "#다시 오류나옴 \n",
    "#변수값을 다시 초기화 해줘야한다. \n",
    "\n",
    "#초기화\n",
    "init = tf.global_variables_initializer()\n",
    "sess.run(init)\n",
    "\n",
    "sess.run(c)\n"
   ]
  }
 ],
 "metadata": {
  "kernelspec": {
   "display_name": "Python 3",
   "language": "python",
   "name": "python3"
  },
  "language_info": {
   "codemirror_mode": {
    "name": "ipython",
    "version": 3
   },
   "file_extension": ".py",
   "mimetype": "text/x-python",
   "name": "python",
   "nbconvert_exporter": "python",
   "pygments_lexer": "ipython3",
   "version": "3.7.6"
  }
 },
 "nbformat": 4,
 "nbformat_minor": 4
}
