{
 "cells": [
  {
   "cell_type": "markdown",
   "metadata": {},
   "source": [
    "# [퓨처스킬]\n",
    "# OOP 기본\n"
   ]
  },
  {
   "cell_type": "markdown",
   "metadata": {},
   "source": [
    "### 3번 : python class\n",
    "- python에서 객체를 만들기 위해서는 클래스를 먼저 정의해야 합니다. python에서 클래스는 class 키워드를 통해 정의할 수 있습니다.\n",
    "\n",
    "이제부터 우리는 Notebook이라는 개념을 클래스로 정의하고, 객체로 생성하려고 합니다.\n",
    "\n",
    "주어진 조건을 만족하는 Notebook class를 완성하고, 객체를 생성하는 코드를 작성하세요.\n",
    "\n",
    "- 조건  \n",
    "Notebook(Macbook, Surface Pro, ..)들은 여러 제조사에서 생산됩니다.  \n",
    "같은 제조사에서 생산된 Notebook들은 여러 모델명을 가집니다.  \n",
    "같은 모델의 Notebook도 서로 다른 하드웨어 스펙을 가집니다.  \n",
    "manufacturer 변수에 제조사 이름을 저장합니다.  \n",
    "model 변수에서 해당 제조사가 생산한 노트북의 모델명을 저장합니다.  \n",
    "memory1, memory2 변수에 각각 RAM의 용량과 SSD의 용량을 GB 단위로 저장합니다. (e.g. RAM - 8GB, SSD - 256GB → memory1 = 8, memory2 = 256)  "
   ]
  },
  {
   "cell_type": "markdown",
   "metadata": {},
   "source": [
    "#### 베이스라인\n",
    "class Notebook: # Notebook class를 정의합니다.  \n",
    "\tdef __init__(self, manufacturer, model, memory1, memory2) :  \n",
    "\t\t# manufacturer, model, memory1, memory2 변수 정의  \n",
    "\t\t'''code here'''  \n",
    "\n",
    "nb = Notebook(\"Apple\", \"MacBook Pro\", 16, 512)  \n",
    "print(\"---- Notebook Information ----\")  \n",
    "print(f\"Manufacturer : {nb.manufacturer}\")  \n",
    "print(f\"Model : {nb.model}\")  \n",
    "print(f\"RAM : {nb.memory1}\")  \n",
    "print(f\"SSD : {nb.memory2}\")  "
   ]
  },
  {
   "cell_type": "markdown",
   "metadata": {},
   "source": [
    "[python class example](https://blog.naver.com/donggyu_00/221547275592)"
   ]
  },
  {
   "cell_type": "code",
   "execution_count": null,
   "metadata": {},
   "outputs": [],
   "source": [
    "class Notebook:\n",
    "    def init(self, manufacturer, model, memory1, memory2) :\n",
    "\n",
    "    # manufacturer, model, memory1, memory2 변수 정의  \n",
    "    '''code here'''  \n",
    "    nb = Notebook(\"Apple\", \"MacBook Pro\", 16, 512)\n",
    "    print(\"---- Notebook Information ----\")\n",
    "    print(f\"Manufacturer : {nb.manufacturer}\")\n",
    "    print(f\"Model : {nb.model}\")\n",
    "    print(f\"RAM : {nb.memory1}\")\n",
    "    print(f\"SSD : {nb.memory2}\")"
   ]
  }
 ],
 "metadata": {
  "kernelspec": {
   "display_name": "Python 3",
   "language": "python",
   "name": "python3"
  },
  "language_info": {
   "codemirror_mode": {
    "name": "ipython",
    "version": 3
   },
   "file_extension": ".py",
   "mimetype": "text/x-python",
   "name": "python",
   "nbconvert_exporter": "python",
   "pygments_lexer": "ipython3",
   "version": "3.7.6"
  }
 },
 "nbformat": 4,
 "nbformat_minor": 4
}
